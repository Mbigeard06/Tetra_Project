{
 "cells": [
  {
   "cell_type": "code",
   "execution_count": 2,
   "id": "e7e06f10-a0e1-4c68-8036-ea3dd2e6fc81",
   "metadata": {},
   "outputs": [],
   "source": [
    "from tetra.data import data_loader\n",
    "import sahi\n",
    "from tetra.utils import file_io\n",
    "from pathlib import Path\n",
    "import os\n",
    "import importlib\n",
    "import shutil\n",
    "import random"
   ]
  },
  {
   "cell_type": "code",
   "execution_count": 3,
   "id": "d7b1649a-50c3-4daa-8da8-4058cbb8077f",
   "metadata": {},
   "outputs": [
    {
     "data": {
      "text/plain": [
       "<module 'tetra.data.data_loader' from '/Users/mateobigearddasen/Documents/agrosup_stage/Tetra_Project/src/tetra/data/data_loader.py'>"
      ]
     },
     "execution_count": 3,
     "metadata": {},
     "output_type": "execute_result"
    }
   ],
   "source": [
    "importlib.reload(data_loader)"
   ]
  },
  {
   "cell_type": "code",
   "execution_count": 4,
   "id": "0e3cf825-fbbc-4a3f-8018-cd2a40e9f2cd",
   "metadata": {},
   "outputs": [],
   "source": [
    "data_dir = Path(\"../../dataset/dataset2/2025-05-14_3-Fold_Cross-val/split_1/val\")\n",
    "output_dir = Path(\"../../dataset/sliced/1\")"
   ]
  },
  {
   "cell_type": "code",
   "execution_count": 5,
   "id": "8132f46f-01b5-4233-b29c-5d29ec904b4a",
   "metadata": {},
   "outputs": [],
   "source": [
    "#Modify the id\n",
    "background = data_loader.get_backgrounds(data_dir)  "
   ]
  },
  {
   "cell_type": "code",
   "execution_count": 6,
   "id": "d39c409f-74c0-46e9-95d1-2e34347ecc91",
   "metadata": {},
   "outputs": [
    {
     "data": {
      "text/plain": [
       "527"
      ]
     },
     "execution_count": 6,
     "metadata": {},
     "output_type": "execute_result"
    }
   ],
   "source": [
    "len(background)"
   ]
  },
  {
   "cell_type": "code",
   "execution_count": 171,
   "id": "c9407b25-8f97-4cd1-8201-8b297f09f0b5",
   "metadata": {},
   "outputs": [],
   "source": [
    "#Moove all the backgrounds out\n",
    "for img in background :\n",
    "    img = Path(img)\n",
    "    image = data_dir / \"images\" / img\n",
    "    label = data_dir / \"labels\" / img.with_suffix(\".txt\")\n",
    "    shutil.move(image, output_dir/ \"images\" / img)\n",
    "    shutil.move(label, output_dir/ \"labels\" / img.with_suffix(\".txt\"))"
   ]
  },
  {
   "cell_type": "code",
   "execution_count": 177,
   "id": "6e196061-239d-48e3-ba49-de6f2978507d",
   "metadata": {},
   "outputs": [],
   "source": [
    "#Select 1596 backgrounds\n",
    "selection = random.sample(background, 1596)"
   ]
  },
  {
   "cell_type": "code",
   "execution_count": 178,
   "id": "cbb6f52b-dc36-4877-9223-1d5d791030c4",
   "metadata": {},
   "outputs": [
    {
     "data": {
      "text/plain": [
       "1596"
      ]
     },
     "execution_count": 178,
     "metadata": {},
     "output_type": "execute_result"
    }
   ],
   "source": [
    "len(selection)"
   ]
  },
  {
   "cell_type": "code",
   "execution_count": 180,
   "id": "b07fd2f0-9b74-4aed-9dc1-5c037939231f",
   "metadata": {},
   "outputs": [],
   "source": [
    "#Moove all the backgrounds in\n",
    "for img in selection :\n",
    "    img = Path(img)\n",
    "    image = data_dir / \"images\" / img\n",
    "    label = data_dir / \"labels\" / img.with_suffix(\".txt\")\n",
    "    shutil.move(image, output_dir/ \"images\" / img)\n",
    "    shutil.move(label, output_dir/ \"labels\" / img.with_suffix(\".txt\"))"
   ]
  }
 ],
 "metadata": {
  "kernelspec": {
   "display_name": "Python 3 (ipykernel)",
   "language": "python",
   "name": "python3"
  },
  "language_info": {
   "codemirror_mode": {
    "name": "ipython",
    "version": 3
   },
   "file_extension": ".py",
   "mimetype": "text/x-python",
   "name": "python",
   "nbconvert_exporter": "python",
   "pygments_lexer": "ipython3",
   "version": "3.13.2"
  }
 },
 "nbformat": 4,
 "nbformat_minor": 5
}
