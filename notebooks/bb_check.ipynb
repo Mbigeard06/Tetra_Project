{
 "cells": [
  {
   "cell_type": "code",
   "execution_count": 1,
   "id": "fa6f59a0-8a6d-4524-a130-c547c957e4f3",
   "metadata": {},
   "outputs": [],
   "source": [
    "import tetra.utils.data_loader as dl\n",
    "import tetra.utils.data_processor as dp\n",
    "from tetra.utils import viewer\n",
    "import importlib\n",
    "import matplotlib.pyplot as plt\n",
    "import os \n",
    "from pathlib import Path"
   ]
  },
  {
   "cell_type": "code",
   "execution_count": 2,
   "id": "201cf106-b061-4a97-bb04-25cdd37c5972",
   "metadata": {},
   "outputs": [],
   "source": [
    "dataset_path = \"../dataset_sliced/split_1\"\n",
    "class_file = \"../classes.txt\""
   ]
  },
  {
   "cell_type": "code",
   "execution_count": 3,
   "id": "50be5f25-5d18-4b25-a1e5-cae35856df81",
   "metadata": {},
   "outputs": [
    {
     "name": "stdout",
     "output_type": "stream",
     "text": [
      "                                                file class_id  x_center  \\\n",
      "0  05090244_JPG.rf.9ed537c2be76992d772a66a125df8b...        0  0.237500   \n",
      "1  MFDC7240_JPG.rf.d65b1e0be5f0322f0cd42be767c08f...        0  0.085938   \n",
      "2  MFDC7660_JPG.rf.7d859cdd5a4f09d02236f1d71aa62e...        0  0.509375   \n",
      "3  MFDC7660_JPG.rf.7d859cdd5a4f09d02236f1d71aa62e...        0  0.594531   \n",
      "4  MFDC7660_JPG.rf.7d859cdd5a4f09d02236f1d71aa62e...        0  0.746094   \n",
      "\n",
      "   y_center     width    height  split  \n",
      "0  0.836719  0.475000  0.326562  train  \n",
      "1  0.659375  0.059375  0.096875  train  \n",
      "2  0.595313  0.065625  0.056250  train  \n",
      "3  0.597656  0.051562  0.051562  train  \n",
      "4  0.625781  0.067187  0.035937  train  \n"
     ]
    }
   ],
   "source": [
    "#Load dataframe of all the bounding boxes\n",
    "df = dl.df_bb(dataset_path,(\"train\", \"val\"))\n",
    "df[\"x_center\"] = df[\"x_center\"].astype(float)\n",
    "df[\"y_center\"] = df[\"y_center\"].astype(float)\n",
    "df[\"width\"] = df[\"width\"].astype(float)\n",
    "df[\"height\"] = df[\"height\"].astype(float)\n",
    "print(df.head())"
   ]
  },
  {
   "cell_type": "code",
   "execution_count": 6,
   "id": "024eaafb-6935-43c4-9cb7-5635a5770321",
   "metadata": {},
   "outputs": [],
   "source": [
    "df[\"area\"] = df[\"width\"].astype(float) * df[\"height\"].astype(float)\n",
    "df[\"aspect_ratioWH\"] = df[\"width\"] / df[\"height\"]\n",
    "df[\"aspect_ratioHW\"] = df[\"height\"] / df[\"width\"]"
   ]
  },
  {
   "cell_type": "code",
   "execution_count": 7,
   "id": "22e6e760-eec3-435f-9523-42bb422d17bf",
   "metadata": {},
   "outputs": [],
   "source": [
    "n = 200\n",
    "df_sorted = df.sort_values(by=\"aspect_ratioHW\", ascending=False)\n",
    "criticals = df_sorted.head(n)"
   ]
  },
  {
   "cell_type": "code",
   "execution_count": 11,
   "id": "e8d68574-c351-42e6-855f-9321f4b1641a",
   "metadata": {},
   "outputs": [],
   "source": [
    "#PRINTING\n",
    "for _, critical in df_invalid.head(10).iterrows():\n",
    "    image_filename = critical[\"file\"]\n",
    "    label_filename = image_filename.replace(\".png\", \".txt\")\n",
    "    critical_img = os.path.join(dataset_path, critical[\"split\"], \"images\",image_filename)\n",
    "    critical_label = os.path.join(dataset_path, critical[\"split\"], \"labels\",label_filename)\n",
    "    print(critical_img)\n",
    "    image = viewer.view_image(critical_img, critical_label,class_file)\n",
    "    plt.imshow(image)\n",
    "    plt.title(critical[\"file\"])\n",
    "    plt.axis(\"off\")\n",
    "    print(f\" area : {critical[\"area\"]}\")\n",
    "    print(f\"Aspect ratio H / W {critical[\"aspect_ratioHW\"]}\")\n",
    "    print(f\"Aspect ratio H / W {critical[\"aspect_ratioWH\"]}\")\n",
    "    plt.show()"
   ]
  },
  {
   "cell_type": "code",
   "execution_count": 9,
   "id": "4a446b93-a7e3-4f1b-b011-f9827069f4f0",
   "metadata": {},
   "outputs": [],
   "source": [
    "#First\n",
    "invalid = (\n",
    "    \n",
    "        ( \n",
    "            (df[\"aspect_ratioHW\"] > 2.75) |\n",
    "            ( df[\"aspect_ratioWH\"] > 3 )\n",
    "        \n",
    "        ) &\n",
    "    \n",
    "    (df[\"area\"] < 0.005) &\n",
    "    (\n",
    "        (df[\"x_center\"] - df[\"width\"] / 2 < 0.0275) |\n",
    "        (df[\"x_center\"] + df[\"width\"] / 2 > 0.975) |\n",
    "        (df[\"y_center\"] - df[\"height\"] / 2 < 0.0275) |\n",
    "        (df[\"y_center\"] + df[\"height\"] / 2 > 0.975)\n",
    "    )\n",
    ")"
   ]
  },
  {
   "cell_type": "code",
   "execution_count": 10,
   "id": "5c462286-5d40-449c-be43-fc908f6f3157",
   "metadata": {},
   "outputs": [
    {
     "name": "stdout",
     "output_type": "stream",
     "text": [
      "Invalid bboxes: 0\n"
     ]
    }
   ],
   "source": [
    "print(f\"Invalid bboxes: {invalid.sum()}\")\n",
    "df_invalid = df[invalid]\n",
    "df_invalid = df_invalid.sort_values(by=\"area\", ascending=False)"
   ]
  },
  {
   "cell_type": "code",
   "execution_count": 21,
   "id": "e82ed26d-ef96-4576-844d-1bbad28b452a",
   "metadata": {},
   "outputs": [
    {
     "name": "stdout",
     "output_type": "stream",
     "text": [
      "Deleted empty label: ../dataset_sliced/split_1/val/labels/pptly_bonneveau_1-164-_JPG.rf.8c8898088c9c3d07cd2364054fac0687_1693_1536_0_2176_640.txt\n",
      "Deleted empty label: ../dataset_sliced/split_1/val/labels/05090225_JPG.rf.d4fa194f1b27b302a439e6ecdebc52c3_2387_2048_1536_2688_2176.txt\n",
      "Deleted empty label: ../dataset_sliced/split_1/val/labels/pptly_bonneveau_1-168-_JPG.rf.7c4c2237eada664a232aba6789a439ed_345_1536_0_2176_640.txt\n",
      "Deleted empty label: ../dataset_sliced/split_1/val/labels/pptly_bonneveau_1-15-_JPG.rf.6a49d5cce4518e17b6b4f58f4837909f_414_0_0_640_640.txt\n",
      "Deleted empty label: ../dataset_sliced/split_1/val/labels/MFDC5921_JPG.rf.eeddd8d270680db785feecf11a5e66e1_1123_5120_872_5760_1512.txt\n",
      "Deleted empty label: ../dataset_sliced/split_1/val/labels/pptly_bonneveau_1-259-_JPG.rf.ef89618b8e86c279ccfda5a72402a848_354_1536_0_2176_640.txt\n",
      "Total removed boxes: 14\n",
      "Total deleted label files: 6\n",
      "Deleted empty label: ../dataset_sliced/split_1/train/labels/pptly_bonneveau_1-170-_JPG.rf.3ed9e362becbc7d9ac87921ab875bf61_87_1536_0_2176_640.txt\n",
      "Deleted empty label: ../dataset_sliced/split_1/train/labels/pptly_bonneveau_1-258-_JPG.rf.9673d2c447c39385955ee2937be6f0fb_1088_1952_0_2592_640.txt\n",
      "Deleted empty label: ../dataset_sliced/split_1/train/labels/05290805_JPG.rf.715c2c27f23e188d66d288b4bd8eb52e_870_0_1024_640_1664.txt\n",
      "Deleted empty label: ../dataset_sliced/split_1/train/labels/pptly_bonneveau_1-163-_JPG.rf.ad618ac7aee991716ba0961e1f878038_211_1536_0_2176_640.txt\n",
      "Deleted empty label: ../dataset_sliced/split_1/train/labels/pptly_bonneveau_1-201-_JPG.rf.127cb25f04dcc1e397453bf2df8d1598_1906_1536_0_2176_640.txt\n",
      "Deleted empty label: ../dataset_sliced/split_1/train/labels/pptly_bonneveau_1-14-_JPG.rf.6b7ea79bccbdc074e04144f57ee8e4e3_985_0_0_640_640.txt\n",
      "Deleted empty label: ../dataset_sliced/split_1/train/labels/pptly_bonneveau_1-164-_JPG.rf.8c8898088c9c3d07cd2364054fac0687_1693_1952_0_2592_640.txt\n",
      "Deleted empty label: ../dataset_sliced/split_1/train/labels/pptly_bonneveau_1-170-_JPG.rf.3ed9e362becbc7d9ac87921ab875bf61_87_1952_0_2592_640.txt\n",
      "Deleted empty label: ../dataset_sliced/split_1/train/labels/pptly_bonneveau_1-258-_JPG.rf.9673d2c447c39385955ee2937be6f0fb_1088_1536_0_2176_640.txt\n",
      "Deleted empty label: ../dataset_sliced/split_1/train/labels/pptly_bonneveau_1-257-_JPG.rf.955069916db6d87a699353bd41ee1968_879_1952_0_2592_640.txt\n",
      "Deleted empty label: ../dataset_sliced/split_1/train/labels/pptly_bonneveau_1-163-_JPG.rf.ad618ac7aee991716ba0961e1f878038_211_1952_0_2592_640.txt\n",
      "Deleted empty label: ../dataset_sliced/split_1/train/labels/pptly_bonneveau_1-168-_JPG.rf.7c4c2237eada664a232aba6789a439ed_345_0_0_640_640.txt\n",
      "Deleted empty label: ../dataset_sliced/split_1/train/labels/pptly_bonneveau_1-169-_JPG.rf.c3c02272bae61cd426b728b4e994dd9b_672_1536_0_2176_640.txt\n",
      "Deleted empty label: ../dataset_sliced/split_1/train/labels/pptly_bonneveau_1-206-_JPG.rf.6343aa765a97edbf83d0a42d835933b2_1065_512_0_1152_640.txt\n",
      "Deleted empty label: ../dataset_sliced/split_1/train/labels/05290805_JPG.rf.715c2c27f23e188d66d288b4bd8eb52e_870_512_1024_1152_1664.txt\n",
      "Deleted empty label: ../dataset_sliced/split_1/train/labels/05090225_JPG.rf.d4fa194f1b27b302a439e6ecdebc52c3_2387_2560_1536_3200_2176.txt\n",
      "Deleted empty label: ../dataset_sliced/split_1/train/labels/pptly_bonneveau_1-147-_JPG.rf.8d7e843d542415ed07ab40d1ddf7f741_1076_1952_0_2592_640.txt\n",
      "Deleted empty label: ../dataset_sliced/split_1/train/labels/pptly_bonneveau_1-68-_jpg.rf.d65cbb8db8c77300195582afd793f830_353_512_512_1152_1152.txt\n",
      "Deleted empty label: ../dataset_sliced/split_1/train/labels/pptly_bonneveau_1-64-_jpg.rf.66642c57037bb057049e51cf1241d8b0_1834_0_0_640_640.txt\n",
      "Deleted empty label: ../dataset_sliced/split_1/train/labels/pptly_bonneveau_1-80-_JPG.rf.2bdec3bf7b182655f622a1256989707a_338_1952_0_2592_640.txt\n",
      "Deleted empty label: ../dataset_sliced/split_1/train/labels/pptly_bonneveau_1-259-_JPG.rf.ef89618b8e86c279ccfda5a72402a848_354_1952_0_2592_640.txt\n",
      "Deleted empty label: ../dataset_sliced/split_1/train/labels/MFDC7832_JPG.rf.a3ee52ba17f1dbcf2c3ee1984a2832b7_1349_3584_512_4224_1152.txt\n",
      "Deleted empty label: ../dataset_sliced/split_1/train/labels/pptly_bonneveau_1-170-_JPG.rf.3ed9e362becbc7d9ac87921ab875bf61_87_0_0_640_640.txt\n",
      "Deleted empty label: ../dataset_sliced/split_1/train/labels/pptly_bonneveau_1-168-_JPG.rf.7c4c2237eada664a232aba6789a439ed_345_1952_0_2592_640.txt\n",
      "Deleted empty label: ../dataset_sliced/split_1/train/labels/pptly_bonneveau_1-80-_JPG.rf.2bdec3bf7b182655f622a1256989707a_338_1536_0_2176_640.txt\n",
      "Deleted empty label: ../dataset_sliced/split_1/train/labels/MFDC1810_JPG.rf.da761136bf100585c5620fa23a3b2019_2313_3584_512_4224_1152.txt\n",
      "Deleted empty label: ../dataset_sliced/split_1/train/labels/pptly_bonneveau_1-203-_JPG.rf.221628977039cd62a3c7cd8a70fd3c4c_1982_1536_0_2176_640.txt\n",
      "Deleted empty label: ../dataset_sliced/split_1/train/labels/pptly_bonneveau_1-77-_jpg.rf.5f63f83e6464ec85e36a777394541ffb_1296_0_0_640_640.txt\n",
      "Total removed boxes: 60\n",
      "Total deleted label files: 28\n"
     ]
    }
   ],
   "source": [
    "splits = [\"val\", \"train\"]\n",
    "for split in splits: \n",
    "    path = Path(dataset_path) / split / \"labels\"\n",
    "    \n",
    "    dp.filter_labels(\n",
    "        label_dir=path,\n",
    "        condition_fn=lambda cls, x, y, w, h: not (\n",
    "            (\n",
    "            (h / w > 2.75) or\n",
    "            (w / h > 3)\n",
    "            ) and\n",
    "            (h * w < 0.005) and\n",
    "            (\n",
    "                (x - w / 2 < 0.0275) or\n",
    "                (x + w / 2 > 0.975) or\n",
    "                (y - h / 2 < 0.0275) or\n",
    "                (y + h / 2 > 0.975)\n",
    "            )\n",
    "        )\n",
    "    )"
   ]
  },
  {
   "cell_type": "code",
   "execution_count": 22,
   "id": "769b7b02-0d9f-4421-bb95-2183f6eb5db5",
   "metadata": {},
   "outputs": [
    {
     "name": "stdout",
     "output_type": "stream",
     "text": [
      "🗑️ Suppression: pptly_bonneveau_1-164-_JPG.rf.8c8898088c9c3d07cd2364054fac0687_1693_1536_0_2176_640.png (No annotations)\n",
      "🗑️ Suppression: pptly_bonneveau_1-259-_JPG.rf.ef89618b8e86c279ccfda5a72402a848_354_1536_0_2176_640.png (No annotations)\n",
      "🗑️ Suppression: MFDC5921_JPG.rf.eeddd8d270680db785feecf11a5e66e1_1123_5120_872_5760_1512.png (No annotations)\n",
      "🗑️ Suppression: 05090225_JPG.rf.d4fa194f1b27b302a439e6ecdebc52c3_2387_2048_1536_2688_2176.png (No annotations)\n",
      "🗑️ Suppression: pptly_bonneveau_1-15-_JPG.rf.6a49d5cce4518e17b6b4f58f4837909f_414_0_0_640_640.png (No annotations)\n",
      "🗑️ Suppression: pptly_bonneveau_1-168-_JPG.rf.7c4c2237eada664a232aba6789a439ed_345_1536_0_2176_640.png (No annotations)\n",
      "🗑️ Suppression: pptly_bonneveau_1-14-_JPG.rf.6b7ea79bccbdc074e04144f57ee8e4e3_985_0_0_640_640.png (No annotations)\n",
      "🗑️ Suppression: pptly_bonneveau_1-164-_JPG.rf.8c8898088c9c3d07cd2364054fac0687_1693_1952_0_2592_640.png (No annotations)\n",
      "🗑️ Suppression: pptly_bonneveau_1-258-_JPG.rf.9673d2c447c39385955ee2937be6f0fb_1088_1536_0_2176_640.png (No annotations)\n",
      "🗑️ Suppression: pptly_bonneveau_1-170-_JPG.rf.3ed9e362becbc7d9ac87921ab875bf61_87_1952_0_2592_640.png (No annotations)\n",
      "🗑️ Suppression: pptly_bonneveau_1-257-_JPG.rf.955069916db6d87a699353bd41ee1968_879_1952_0_2592_640.png (No annotations)\n",
      "🗑️ Suppression: pptly_bonneveau_1-163-_JPG.rf.ad618ac7aee991716ba0961e1f878038_211_1952_0_2592_640.png (No annotations)\n",
      "🗑️ Suppression: pptly_bonneveau_1-258-_JPG.rf.9673d2c447c39385955ee2937be6f0fb_1088_1952_0_2592_640.png (No annotations)\n",
      "🗑️ Suppression: pptly_bonneveau_1-170-_JPG.rf.3ed9e362becbc7d9ac87921ab875bf61_87_1536_0_2176_640.png (No annotations)\n",
      "🗑️ Suppression: 05290805_JPG.rf.715c2c27f23e188d66d288b4bd8eb52e_870_0_1024_640_1664.png (No annotations)\n",
      "🗑️ Suppression: pptly_bonneveau_1-163-_JPG.rf.ad618ac7aee991716ba0961e1f878038_211_1536_0_2176_640.png (No annotations)\n",
      "🗑️ Suppression: pptly_bonneveau_1-201-_JPG.rf.127cb25f04dcc1e397453bf2df8d1598_1906_1536_0_2176_640.png (No annotations)\n",
      "🗑️ Suppression: MFDC7832_JPG.rf.a3ee52ba17f1dbcf2c3ee1984a2832b7_1349_3584_512_4224_1152.png (No annotations)\n",
      "🗑️ Suppression: pptly_bonneveau_1-170-_JPG.rf.3ed9e362becbc7d9ac87921ab875bf61_87_0_0_640_640.png (No annotations)\n",
      "🗑️ Suppression: MFDC1810_JPG.rf.da761136bf100585c5620fa23a3b2019_2313_3584_512_4224_1152.png (No annotations)\n",
      "🗑️ Suppression: pptly_bonneveau_1-168-_JPG.rf.7c4c2237eada664a232aba6789a439ed_345_1952_0_2592_640.png (No annotations)\n",
      "🗑️ Suppression: pptly_bonneveau_1-80-_JPG.rf.2bdec3bf7b182655f622a1256989707a_338_1536_0_2176_640.png (No annotations)\n",
      "🗑️ Suppression: pptly_bonneveau_1-77-_jpg.rf.5f63f83e6464ec85e36a777394541ffb_1296_0_0_640_640.png (No annotations)\n",
      "🗑️ Suppression: pptly_bonneveau_1-203-_JPG.rf.221628977039cd62a3c7cd8a70fd3c4c_1982_1536_0_2176_640.png (No annotations)\n",
      "🗑️ Suppression: pptly_bonneveau_1-169-_JPG.rf.c3c02272bae61cd426b728b4e994dd9b_672_1536_0_2176_640.png (No annotations)\n",
      "🗑️ Suppression: pptly_bonneveau_1-206-_JPG.rf.6343aa765a97edbf83d0a42d835933b2_1065_512_0_1152_640.png (No annotations)\n",
      "🗑️ Suppression: pptly_bonneveau_1-168-_JPG.rf.7c4c2237eada664a232aba6789a439ed_345_0_0_640_640.png (No annotations)\n",
      "🗑️ Suppression: 05290805_JPG.rf.715c2c27f23e188d66d288b4bd8eb52e_870_512_1024_1152_1664.png (No annotations)\n",
      "🗑️ Suppression: pptly_bonneveau_1-147-_JPG.rf.8d7e843d542415ed07ab40d1ddf7f741_1076_1952_0_2592_640.png (No annotations)\n",
      "🗑️ Suppression: pptly_bonneveau_1-68-_jpg.rf.d65cbb8db8c77300195582afd793f830_353_512_512_1152_1152.png (No annotations)\n",
      "🗑️ Suppression: 05090225_JPG.rf.d4fa194f1b27b302a439e6ecdebc52c3_2387_2560_1536_3200_2176.png (No annotations)\n",
      "🗑️ Suppression: pptly_bonneveau_1-259-_JPG.rf.ef89618b8e86c279ccfda5a72402a848_354_1952_0_2592_640.png (No annotations)\n",
      "🗑️ Suppression: pptly_bonneveau_1-64-_jpg.rf.66642c57037bb057049e51cf1241d8b0_1834_0_0_640_640.png (No annotations)\n",
      "🗑️ Suppression: pptly_bonneveau_1-80-_JPG.rf.2bdec3bf7b182655f622a1256989707a_338_1952_0_2592_640.png (No annotations)\n"
     ]
    }
   ],
   "source": [
    "for split in splits:\n",
    "    img_path = Path(dataset_path) / split / \"images\"\n",
    "    label_path = Path(dataset_path) / split / \"labels\"\n",
    "    dp.remove_imgs_without_annotations(img_path, label_path)"
   ]
  }
 ],
 "metadata": {
  "kernelspec": {
   "display_name": "Python 3 (ipykernel)",
   "language": "python",
   "name": "python3"
  },
  "language_info": {
   "codemirror_mode": {
    "name": "ipython",
    "version": 3
   },
   "file_extension": ".py",
   "mimetype": "text/x-python",
   "name": "python",
   "nbconvert_exporter": "python",
   "pygments_lexer": "ipython3",
   "version": "3.12.2"
  }
 },
 "nbformat": 4,
 "nbformat_minor": 5
}
