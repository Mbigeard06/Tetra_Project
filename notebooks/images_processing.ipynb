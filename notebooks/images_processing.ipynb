{
 "cells": [
  {
   "cell_type": "code",
   "execution_count": 3,
   "id": "e7e06f10-a0e1-4c68-8036-ea3dd2e6fc81",
   "metadata": {},
   "outputs": [
    {
     "ename": "SyntaxError",
     "evalue": "expected ':' (file_io.py, line 46)",
     "output_type": "error",
     "traceback": [
      "Traceback \u001b[36m(most recent call last)\u001b[39m:\n",
      "  File \u001b[92m~/Documents/agrosup_stage/Tetra_Project/venv/lib/python3.13/site-packages/IPython/core/interactiveshell.py:3670\u001b[39m in \u001b[95mrun_code\u001b[39m\n    exec(code_obj, self.user_global_ns, self.user_ns)\n",
      "\u001b[36m  \u001b[39m\u001b[36mCell\u001b[39m\u001b[36m \u001b[39m\u001b[32mIn[3]\u001b[39m\u001b[32m, line 3\u001b[39m\n\u001b[31m    \u001b[39m\u001b[31mfrom tetra.utils import file_io\u001b[39m\n",
      "  \u001b[36mFile \u001b[39m\u001b[32m~/Documents/agrosup_stage/Tetra_Project/src/tetra/utils/file_io.py:46\u001b[39m\n\u001b[31m    \u001b[39m\u001b[31mdef coco_to_yolo_ds(annotations_path)\u001b[39m\n                                         ^\n\u001b[31mSyntaxError\u001b[39m\u001b[31m:\u001b[39m expected ':'\n"
     ]
    }
   ],
   "source": [
    "from tetra.data import data_loader\n",
    "import sahi\n",
    "from tetra.utils import file_io"
   ]
  },
  {
   "cell_type": "code",
   "execution_count": null,
   "id": "0e3cf825-fbbc-4a3f-8018-cd2a40e9f2cd",
   "metadata": {},
   "outputs": [],
   "source": [
    "annotations_path = \"../../dataset/sliced/"
   ]
  }
 ],
 "metadata": {
  "kernelspec": {
   "display_name": "Python 3 (ipykernel)",
   "language": "python",
   "name": "python3"
  },
  "language_info": {
   "codemirror_mode": {
    "name": "ipython",
    "version": 3
   },
   "file_extension": ".py",
   "mimetype": "text/x-python",
   "name": "python",
   "nbconvert_exporter": "python",
   "pygments_lexer": "ipython3",
   "version": "3.13.2"
  }
 },
 "nbformat": 4,
 "nbformat_minor": 5
}
