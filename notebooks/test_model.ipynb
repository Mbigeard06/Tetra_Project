{
 "cells": [
  {
   "cell_type": "code",
   "execution_count": 16,
   "id": "9feebc3c-69a8-4647-89d5-4cea046024ed",
   "metadata": {},
   "outputs": [],
   "source": [
    "from tetra.model import test\n",
    "import os\n",
    "from threading import Thread\n",
    "from PIL import Image"
   ]
  },
  {
   "cell_type": "code",
   "execution_count": 17,
   "id": "22ce2302-e3c3-4317-8105-8bf81902ef5f",
   "metadata": {},
   "outputs": [],
   "source": [
    "# Path\n",
    "image_dir = \"../dataset_sliced/images\"\n",
    "#Load files\n",
    "all_files = [f for f in os.listdir(image_dir) if f.endswith(\"png\") or f.endswith(\"jpg\")]"
   ]
  },
  {
   "cell_type": "code",
   "execution_count": 19,
   "id": "e0005199-ac57-4eb2-b2c3-3ab5a025fed2",
   "metadata": {},
   "outputs": [
    {
     "name": "stdout",
     "output_type": "stream",
     "text": [
      "(640, 640)\n",
      "\n",
      "image 1/1 D:\\Documents\\bima2564\\Documents\\Tetra_Project\\notebooks\\..\\dataset_sliced\\images\\04160108_JPG.rf.8c43a4af66d381f8d3ff16e1c4bd2003_2026_1536_512_2176_1152.png: 640x640 (no detections), 69.9ms\n",
      "Speed: 2.1ms preprocess, 69.9ms inference, 0.6ms postprocess per image at shape (1, 3, 640, 640)\n"
     ]
    }
   ],
   "source": [
    "i = 3\n",
    "image_path = os.path.join(image_dir, all_files[i])\n",
    "img = Image.open(image_path)\n",
    "print(img.size)\n",
    "thread = Thread(target=test.predict, args=(image_path,))\n",
    "thread.start()\n",
    "thread.join() "
   ]
  }
 ],
 "metadata": {
  "kernelspec": {
   "display_name": "Python 3 (ipykernel)",
   "language": "python",
   "name": "python3"
  },
  "language_info": {
   "codemirror_mode": {
    "name": "ipython",
    "version": 3
   },
   "file_extension": ".py",
   "mimetype": "text/x-python",
   "name": "python",
   "nbconvert_exporter": "python",
   "pygments_lexer": "ipython3",
   "version": "3.13.3"
  }
 },
 "nbformat": 4,
 "nbformat_minor": 5
}
