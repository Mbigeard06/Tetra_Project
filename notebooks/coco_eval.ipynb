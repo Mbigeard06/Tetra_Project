{
 "cells": [
  {
   "cell_type": "code",
   "execution_count": 8,
   "id": "02d592ba-ebe3-4293-999b-2ace3f26368f",
   "metadata": {},
   "outputs": [],
   "source": [
    "from tetra.model import val\n",
    "from tetra.model import inference\n",
    "from tetra.data import data_loader\n",
    "from tetra.utils import file_io\n",
    "from pathlib import Path\n",
    "import importlib\n",
    "import shutil\n",
    "import os\n",
    "from pycocotools.coco import COCO"
   ]
  },
  {
   "cell_type": "code",
   "execution_count": 56,
   "id": "80950a78-cbe6-4964-b976-18ee75e7d4d2",
   "metadata": {},
   "outputs": [
    {
     "data": {
      "text/plain": [
       "<module 'tetra.model.inference' from '/Users/mateobigearddasen/Documents/agrosup_stage/Tetra_Project/src/tetra/model/inference.py'>"
      ]
     },
     "execution_count": 56,
     "metadata": {},
     "output_type": "execute_result"
    }
   ],
   "source": [
    "importlib.reload(inference)"
   ]
  },
  {
   "cell_type": "code",
   "execution_count": 6,
   "id": "d1c1a058-51d7-43cb-9d30-31bac10a62e0",
   "metadata": {},
   "outputs": [],
   "source": [
    "model = os.path.abspath(\"../../runs/train/lyrurus_yolov11l_background_dataset/weights/best.pt\")\n",
    "dataset = Path(\"../../dataset/og/images\")\n",
    "label = Path(\"../../dataset/inference/labels/lyrurus_yolov11l_background_labels\")\n",
    "gt_annotations = \"../../dataset/og/_annotations.coco.json\""
   ]
  },
  {
   "cell_type": "code",
   "execution_count": 58,
   "id": "6fe903eb-4bfa-48a7-9ed3-f386f17332f1",
   "metadata": {},
   "outputs": [],
   "source": [
    "#Select images of the dataset\n",
    "imgs = data_loader.random_data_sample(dataset, 0.025, [\".jpg\"])"
   ]
  },
  {
   "cell_type": "code",
   "execution_count": 59,
   "id": "6a854ec3-037a-4fba-bda0-9468b1e52a89",
   "metadata": {},
   "outputs": [],
   "source": [
    "#Change images directory\n",
    "for img in img_samples:\n",
    "    img = Path(img)\n",
    "    image = dataset / img\n",
    "    shutil.move(image, Path(inference_dataset) / img.name)"
   ]
  },
  {
   "cell_type": "code",
   "execution_count": 10,
   "id": "fbbd60a6-defe-4083-b763-2f31ea54f9b5",
   "metadata": {
    "scrolled": true
   },
   "outputs": [
    {
     "name": "stdout",
     "output_type": "stream",
     "text": [
      "loading annotations into memory...\n",
      "Done (t=0.02s)\n",
      "creating index...\n",
      "index created!\n"
     ]
    }
   ],
   "source": [
    "#Get ground truth annotations\n",
    "coco_gt = COCO(gt_annotations)\n",
    "#Map id to image name\n",
    "file_to_id = {img[\"file_name\"]: img[\"id\"] for img in coco_gt.dataset[\"images\"] if img[\"file_name\"]}"
   ]
  },
  {
   "cell_type": "code",
   "execution_count": null,
   "id": "9f768eea-5be0-4638-9767-a9a8194112d3",
   "metadata": {},
   "outputs": [
    {
     "name": "stdout",
     "output_type": "stream",
     "text": [
      "IMAGES 100 \n",
      "IMAGES 200 \n",
      "IMAGES 300 \n",
      "IMAGES 400 \n",
      "IMAGES 500 \n"
     ]
    }
   ],
   "source": [
    "#Inference of the data \n",
    "predictions = []\n",
    "i = 0\n",
    "for f in Path(dataset).iterdir():\n",
    "    if f.suffix.lower() == \".jpg\":\n",
    "        prediction = inference.solo_inference(model, str(f))\n",
    "        prediction = prediction.to_coco_annotations()\n",
    "        #Save the prediction in yolo\n",
    "        yolo_pred = file_io.coco_to_yolo(prediction, f, True)\n",
    "        file_io.save_yolo_labels(yolo_pred, label, f.stem + \".txt\")\n",
    "        for ann in prediction:\n",
    "            #Convert id to the gt id\n",
    "            ann[\"image_id\"] = file_to_id[f.name]\n",
    "            ann[\"category_id\"] = 1\n",
    "            #Change category name\n",
    "            ann[\"category_name\"] = \"Lyrurus_tetrix\"\n",
    "        predictions.append(prediction)\n",
    "        i += 1\n",
    "        if i % 100 == 0:\n",
    "            print(f\"IMAGES {i} \")\n",
    "print(\"END\")\n",
    "\n",
    "#Save predictions\n",
    "file_io.save_coco_labels(file_io.flatten_pred(predictions), \"./annotations\", \"lyrurus_yolov11l_background_dataset.coco.json\" )"
   ]
  },
  {
   "cell_type": "code",
   "execution_count": 62,
   "id": "b7d46248-22ec-4f4d-a209-e8614382fa49",
   "metadata": {},
   "outputs": [],
   "source": [
    "#Save predictions\n",
    "file_io.save_coco_labels(file_io.flatten_pred(predictions), \"./annotations\", \"lyrurus_yolov11l_background_dataset.coco.json\" )"
   ]
  },
  {
   "cell_type": "code",
   "execution_count": 21,
   "id": "12cc2939-822a-4e05-b4e7-7a8bd7f6e302",
   "metadata": {},
   "outputs": [],
   "source": [
    "#Filter predictions\n",
    "filtered_predictions = [ann for ann in file_io.flatten_pred(predictions) if ann[\"score\"] > 0.7]"
   ]
  },
  {
   "cell_type": "code",
   "execution_count": 9,
   "id": "9e0dd6d0-dbfd-46e9-8936-9b6026015e9a",
   "metadata": {},
   "outputs": [
    {
     "name": "stdout",
     "output_type": "stream",
     "text": [
      "loading annotations into memory...\n",
      "Done (t=0.02s)\n",
      "creating index...\n",
      "index created!\n",
      "Loading and preparing results...\n",
      "DONE (t=0.01s)\n",
      "creating index...\n",
      "index created!\n"
     ]
    }
   ],
   "source": [
    "metric_val = val.eval_hr(\"../../dataset/og/_annotations.coco.json\", \"../../dataset/inference/labels/lyrurus_yolov11l_background/lyrurus_yolov11l_background_dataset2.coco.json\")"
   ]
  },
  {
   "cell_type": "code",
   "execution_count": 10,
   "id": "1ecdcf2f-8b48-4b78-bac8-455a87fb2263",
   "metadata": {},
   "outputs": [
    {
     "name": "stdout",
     "output_type": "stream",
     "text": [
      "Running per image evaluation...\n",
      "Evaluate annotation type *bbox*\n",
      "DONE (t=0.22s).\n",
      "Accumulating evaluation results...\n",
      "DONE (t=0.04s).\n",
      " Average Precision  (AP) @[ IoU=0.50:0.95 | area=   all | maxDets=100 ] = 0.197\n",
      " Average Precision  (AP) @[ IoU=0.50      | area=   all | maxDets=100 ] = 0.327\n",
      " Average Precision  (AP) @[ IoU=0.75      | area=   all | maxDets=100 ] = 0.213\n",
      " Average Precision  (AP) @[ IoU=0.50:0.95 | area= small | maxDets=100 ] = 0.156\n",
      " Average Precision  (AP) @[ IoU=0.50:0.95 | area=medium | maxDets=100 ] = 0.214\n",
      " Average Precision  (AP) @[ IoU=0.50:0.95 | area= large | maxDets=100 ] = 0.205\n",
      " Average Recall     (AR) @[ IoU=0.50:0.95 | area=   all | maxDets=  1 ] = 0.084\n",
      " Average Recall     (AR) @[ IoU=0.50:0.95 | area=   all | maxDets= 10 ] = 0.227\n",
      " Average Recall     (AR) @[ IoU=0.50:0.95 | area=   all | maxDets=100 ] = 0.227\n",
      " Average Recall     (AR) @[ IoU=0.50:0.95 | area= small | maxDets=100 ] = 0.191\n",
      " Average Recall     (AR) @[ IoU=0.50:0.95 | area=medium | maxDets=100 ] = 0.244\n",
      " Average Recall     (AR) @[ IoU=0.50:0.95 | area= large | maxDets=100 ] = 0.233\n"
     ]
    }
   ],
   "source": [
    "metric_val.evaluate()\n",
    "metric_val.accumulate()\n",
    "metric_val.summarize()"
   ]
  },
  {
   "cell_type": "code",
   "execution_count": null,
   "id": "6662ca5f-9f6d-4a61-aaec-b1bd248c54db",
   "metadata": {},
   "outputs": [],
   "source": []
  }
 ],
 "metadata": {
  "kernelspec": {
   "display_name": "Python 3 (ipykernel)",
   "language": "python",
   "name": "python3"
  },
  "language_info": {
   "codemirror_mode": {
    "name": "ipython",
    "version": 3
   },
   "file_extension": ".py",
   "mimetype": "text/x-python",
   "name": "python",
   "nbconvert_exporter": "python",
   "pygments_lexer": "ipython3",
   "version": "3.13.2"
  }
 },
 "nbformat": 4,
 "nbformat_minor": 5
}
